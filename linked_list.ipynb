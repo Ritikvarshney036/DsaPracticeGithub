{
 "cells": [
  {
   "cell_type": "code",
   "execution_count": 3,
   "metadata": {},
   "outputs": [],
   "source": [
    "class Node:\n",
    "    def __init__(self, data=None, next=None):\n",
    "        self.data = data\n",
    "        self.next = next\n",
    "\n",
    "    def setData(self,data):\n",
    "        self.data=data\n",
    "\n",
    "    def getData(self):\n",
    "        return self.data\n",
    "    \n",
    "    def setNext(self,next):\n",
    "        self.next=next\n",
    "\n",
    "    def getNext(self):\n",
    "        return self.next"
   ]
  },
  {
   "cell_type": "code",
   "execution_count": 4,
   "metadata": {},
   "outputs": [],
   "source": [
    "#created a linked list -> collection of list nodes\n",
    "\n",
    "head = Node(1)\n",
    "node2=Node(2)\n",
    "node3=Node(3)\n",
    "node4=Node(4)\n",
    "node5=Node(5)"
   ]
  },
  {
   "cell_type": "markdown",
   "metadata": {},
   "source": []
  },
  {
   "cell_type": "code",
   "execution_count": 5,
   "metadata": {},
   "outputs": [],
   "source": [
    "#create the linkage \n",
    "\n",
    "head.setNext(node2)\n",
    "node2.setNext(node3)\n",
    "node3.setNext(node4)\n",
    "node4.setNext(node5)"
   ]
  },
  {
   "cell_type": "code",
   "execution_count": 6,
   "metadata": {},
   "outputs": [],
   "source": [
    "def traverse(head):\n",
    "    temp=head\n",
    "    while(temp):\n",
    "        print(temp.getData(),end=\"->\")\n",
    "        temp=temp.getNext()"
   ]
  },
  {
   "cell_type": "code",
   "execution_count": 25,
   "metadata": {},
   "outputs": [
    {
     "name": "stdout",
     "output_type": "stream",
     "text": [
      "1->2->3->4->"
     ]
    }
   ],
   "source": [
    "traverse(head)"
   ]
  },
  {
   "cell_type": "code",
   "execution_count": 26,
   "metadata": {},
   "outputs": [],
   "source": [
    "def treverse_rec(node):\n",
    "    if not node:\n",
    "        return \n",
    "    print(node.getData(),end=\"->\")\n",
    "    treverse_rec(node.getNext())"
   ]
  },
  {
   "cell_type": "code",
   "execution_count": 27,
   "metadata": {},
   "outputs": [
    {
     "name": "stdout",
     "output_type": "stream",
     "text": [
      "1->2->3->4->"
     ]
    }
   ],
   "source": [
    "treverse_rec(head)"
   ]
  },
  {
   "cell_type": "code",
   "execution_count": 7,
   "metadata": {},
   "outputs": [],
   "source": [
    "def length(head):\n",
    "    temp=head\n",
    "    len=0\n",
    "    while(temp):\n",
    "        len+=1\n",
    "        temp=temp.getNext()\n",
    "    return len"
   ]
  },
  {
   "cell_type": "code",
   "execution_count": 29,
   "metadata": {},
   "outputs": [
    {
     "data": {
      "text/plain": [
       "4"
      ]
     },
     "execution_count": 29,
     "metadata": {},
     "output_type": "execute_result"
    }
   ],
   "source": [
    "length(head)"
   ]
  },
  {
   "cell_type": "markdown",
   "metadata": {},
   "source": [
    "Insertion in the linked list"
   ]
  },
  {
   "cell_type": "code",
   "execution_count": 10,
   "metadata": {},
   "outputs": [],
   "source": [
    "def insertNode(head, data, k):\n",
    "    # if the k is valid \n",
    "    if (k>length(head) or k<0):\n",
    "        print(\"Arguement k passed is not valid\")\n",
    "        return head\n",
    "    \n",
    "    #create new node for data \n",
    "    newNode=Node(data)\n",
    "\n",
    "    if (k==0):\n",
    "        newNode.setNext(head)\n",
    "        head=newNode\n",
    "    else:\n",
    "        prev=head\n",
    "        i=0\n",
    "        while(i<k-1):\n",
    "            prev=prev.getNext()\n",
    "            i+=1\n",
    "\n",
    "        newNode.setNext(prev.getNext())\n",
    "        prev.setNext(newNode)\n",
    "    return head"
   ]
  },
  {
   "cell_type": "code",
   "execution_count": 18,
   "metadata": {},
   "outputs": [
    {
     "name": "stdout",
     "output_type": "stream",
     "text": [
      "8->1000->0->8->1->2->3->4->5-> \n",
      "8->1000->1000->0->8->1->2->3->4->5->"
     ]
    }
   ],
   "source": [
    "traverse(head)\n",
    "print(\" \")\n",
    "head= insertNode(head,1000,1)\n",
    "traverse(head)"
   ]
  },
  {
   "cell_type": "markdown",
   "metadata": {},
   "source": [
    "## Delection of Linked List"
   ]
  },
  {
   "cell_type": "code",
   "execution_count": 13,
   "metadata": {},
   "outputs": [],
   "source": [
    "def remove(head, k):\n",
    "    #check if k is valid\n",
    "    if (k<0 or k>=length(head) or not head):\n",
    "        return head\n",
    "    \n",
    "    if (k==0):\n",
    "        head=head.getNext()\n",
    "\n",
    "    else:\n",
    "        # we jump to k-1 position \n",
    "        i=0\n",
    "        prev=head\n",
    "        while(i<k-1):\n",
    "            prev=prev.getNext()\n",
    "            i+=1\n",
    "        \n",
    "        prev.setNext(prev.getNext().getNext())\n",
    "    return head\n"
   ]
  },
  {
   "cell_type": "code",
   "execution_count": 15,
   "metadata": {},
   "outputs": [
    {
     "name": "stdout",
     "output_type": "stream",
     "text": [
      "1->2->3->4->5->\n",
      "2->3->4->5->"
     ]
    }
   ],
   "source": [
    "traverse(head)\n",
    "print()\n",
    "head = remove(head, 0)\n",
    "traverse(head)"
   ]
  },
  {
   "cell_type": "code",
   "execution_count": 10,
   "metadata": {},
   "outputs": [
    {
     "name": "stdout",
     "output_type": "stream",
     "text": [
      "1->2->3->4->5->"
     ]
    }
   ],
   "source": []
  },
  {
   "cell_type": "markdown",
   "metadata": {},
   "source": [
    "## find the middle element of the linked list"
   ]
  },
  {
   "cell_type": "code",
   "execution_count": 16,
   "metadata": {},
   "outputs": [],
   "source": [
    "def findMidPoint(head):\n",
    "    slow=head\n",
    "    fast=head\n",
    "\n",
    "    while(fast != None and fast.getNext() != None):\n",
    "        slow = slow.getNext()\n",
    "        fast= fast.getNext().getNext()\n",
    "    return slow.getData()"
   ]
  },
  {
   "cell_type": "code",
   "execution_count": 18,
   "metadata": {},
   "outputs": [
    {
     "name": "stdout",
     "output_type": "stream",
     "text": [
      "3\n"
     ]
    }
   ],
   "source": [
    "## For odd number of the element\n",
    "\n",
    "#created a linked list -> collection of list nodes\n",
    "\n",
    "head = Node(1)\n",
    "node2=Node(2)\n",
    "node3=Node(3)\n",
    "node4=Node(4)\n",
    "node5=Node(5)\n",
    "\n",
    "#create the linkage \n",
    "\n",
    "head.setNext(node2)\n",
    "node2.setNext(node3)\n",
    "node3.setNext(node4)\n",
    "node4.setNext(node5)\n",
    "\n",
    "print(findMidPoint(head))"
   ]
  },
  {
   "cell_type": "code",
   "execution_count": 20,
   "metadata": {},
   "outputs": [
    {
     "name": "stdout",
     "output_type": "stream",
     "text": [
      "4\n"
     ]
    }
   ],
   "source": [
    "## For even number of the element\n",
    "\n",
    "#created a linked list -> collection of list nodes\n",
    "\n",
    "head = Node(1)\n",
    "node2=Node(2)\n",
    "node3=Node(3)\n",
    "node4=Node(4)\n",
    "node5=Node(5)\n",
    "node6=Node(6)\n",
    "\n",
    "#create the linkage \n",
    "\n",
    "head.setNext(node2)\n",
    "node2.setNext(node3)\n",
    "node3.setNext(node4)\n",
    "node4.setNext(node5)\n",
    "node5.setNext(node6)\n",
    "\n",
    "print(findMidPoint(head))"
   ]
  },
  {
   "cell_type": "markdown",
   "metadata": {},
   "source": [
    "Find the middle of the linked list "
   ]
  },
  {
   "cell_type": "code",
   "execution_count": 39,
   "metadata": {},
   "outputs": [],
   "source": [
    "def find_middle(head):\n",
    "    ll_len=length(head)\n",
    "    i=0\n",
    "    prev=head\n",
    "    while(i<((ll_len)/2) + 1):\n",
    "        prev=prev.getNext()\n",
    "        i+=1\n",
    "    print(prev)"
   ]
  },
  {
   "cell_type": "code",
   "execution_count": 40,
   "metadata": {},
   "outputs": [
    {
     "name": "stdout",
     "output_type": "stream",
     "text": [
      "<__main__.Node object at 0x0000025D31669BB0>\n",
      "None\n"
     ]
    }
   ],
   "source": [
    "head = Node(1)\n",
    "node2=Node(2)\n",
    "node3=Node(3)\n",
    "node4=Node(4)\n",
    "node5=Node(5)\n",
    "\n",
    "#create the linkage \n",
    "\n",
    "head.setNext(node2)\n",
    "node2.setNext(node3)\n",
    "node3.setNext(node4)\n",
    "node4.setNext(node5)\n",
    "\n",
    "def length(head):\n",
    "    temp=head\n",
    "    len=0\n",
    "    while(temp):\n",
    "        len+=1\n",
    "        temp=temp.getNext()\n",
    "    return len\n",
    "\n",
    "def traverse(head):\n",
    "    temp=head\n",
    "    while(temp):\n",
    "        print(temp.getData(),end=\"->\")\n",
    "        temp=temp.getNext()\n",
    "\n",
    "\n",
    "def find_middle(head):\n",
    "    ll_len=length(head)\n",
    "    i=0\n",
    "    prev=head\n",
    "    while(i<((ll_len)/2) + 1):\n",
    "        prev=prev.getNext()\n",
    "        i+=1\n",
    "    print(prev)\n",
    "\n",
    "print(find_middle(head))"
   ]
  },
  {
   "cell_type": "code",
   "execution_count": 42,
   "metadata": {},
   "outputs": [
    {
     "name": "stdout",
     "output_type": "stream",
     "text": [
      "Linked list:\n",
      "1 -> 2 -> 3 -> 4 -> 5 -> \n",
      "Middle node: 3\n"
     ]
    }
   ],
   "source": [
    "class Node:\n",
    "    def __init__(self, data):\n",
    "        self.data = data\n",
    "        self.next = None\n",
    "\n",
    "def create_linked_list():\n",
    "    \"\"\"Creates a linked list with nodes containing values 1 to 5.\"\"\"\n",
    "    head = Node(1)\n",
    "    node2 = Node(2)\n",
    "    node3 = Node(3)\n",
    "    node4 = Node(4)\n",
    "    node5 = Node(5)\n",
    "\n",
    "    head.next = node2\n",
    "    node2.next = node3\n",
    "    node3.next = node4\n",
    "    node4.next = node5\n",
    "\n",
    "    return head\n",
    "\n",
    "def find_middle(head):\n",
    "    \"\"\"Finds the middle node of the linked list using two pointers.\"\"\"\n",
    "\n",
    "    if not head:\n",
    "        return None  # Handle empty list gracefully\n",
    "\n",
    "    slow = fast = head\n",
    "    while fast and fast.next:\n",
    "        slow = slow.next\n",
    "        fast = fast.next.next\n",
    "\n",
    "    return slow\n",
    "\n",
    "def traverse(head):\n",
    "    \"\"\"Prints the data of each node in the linked list.\"\"\"\n",
    "\n",
    "    temp = head\n",
    "    while temp:\n",
    "        print(temp.data, end=\" -> \")\n",
    "        temp = temp.next\n",
    "    print()  # Add a newline at the end\n",
    "\n",
    "# Create the linked list\n",
    "head = create_linked_list()\n",
    "\n",
    "# Print the linked list\n",
    "print(\"Linked list:\")\n",
    "traverse(head)\n",
    "\n",
    "# Find the middle node\n",
    "middle_node = find_middle(head)\n",
    "\n",
    "if middle_node:\n",
    "    print(\"Middle node:\", middle_node.data)\n",
    "else:\n",
    "    print(\"List is empty.\")\n"
   ]
  },
  {
   "cell_type": "markdown",
   "metadata": {},
   "source": [
    "## Cycle Detection Algorithm "
   ]
  },
  {
   "cell_type": "code",
   "execution_count": null,
   "metadata": {},
   "outputs": [],
   "source": [
    "def isCyclePresent(head):\n",
    "    slow = fast = head\n",
    "    while(fast and fast.getNext()):\n",
    "        slow=slow.get"
   ]
  },
  {
   "cell_type": "code",
   "execution_count": null,
   "metadata": {},
   "outputs": [],
   "source": []
  },
  {
   "cell_type": "code",
   "execution_count": null,
   "metadata": {},
   "outputs": [],
   "source": []
  },
  {
   "cell_type": "code",
   "execution_count": null,
   "metadata": {},
   "outputs": [],
   "source": []
  }
 ],
 "metadata": {
  "kernelspec": {
   "display_name": "Python 3",
   "language": "python",
   "name": "python3"
  },
  "language_info": {
   "codemirror_mode": {
    "name": "ipython",
    "version": 3
   },
   "file_extension": ".py",
   "mimetype": "text/x-python",
   "name": "python",
   "nbconvert_exporter": "python",
   "pygments_lexer": "ipython3",
   "version": "3.12.0"
  }
 },
 "nbformat": 4,
 "nbformat_minor": 2
}
