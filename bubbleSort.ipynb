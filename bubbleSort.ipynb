{
 "cells": [
  {
   "cell_type": "code",
   "execution_count": 6,
   "metadata": {},
   "outputs": [],
   "source": [
    "def bubbleSort(arr):\n",
    "    for i in range(len(arr)-1,0,-1):\n",
    "        for j in range(i):\n",
    "            if arr[j]>arr[i]:\n",
    "                arr[j], arr[i] = arr[i], arr[j]"
   ]
  },
  {
   "cell_type": "code",
   "execution_count": 9,
   "metadata": {},
   "outputs": [
    {
     "data": {
      "text/plain": [
       "[1, 2, 3, 4, 5]"
      ]
     },
     "execution_count": 9,
     "metadata": {},
     "output_type": "execute_result"
    }
   ],
   "source": [
    "l=[5,1,3,4,2]\n",
    "bubbleSort(l)\n",
    "l"
   ]
  },
  {
   "cell_type": "code",
   "execution_count": 12,
   "metadata": {},
   "outputs": [],
   "source": [
    "def bubbleSortOptimized(arr):\n",
    "    for i in range(len(arr)-1,0,-1):\n",
    "        isSorted = True\n",
    "        for j in range(i):\n",
    "            if arr[j] > arr[i]:\n",
    "                isSorted = False \n",
    "                arr[j], arr[i] = arr[i], arr[j]\n",
    "    if isSorted:\n",
    "        print(\"This string is already sorted\")"
   ]
  },
  {
   "cell_type": "code",
   "execution_count": 13,
   "metadata": {},
   "outputs": [
    {
     "name": "stdout",
     "output_type": "stream",
     "text": [
      "This string is already sorted\n"
     ]
    }
   ],
   "source": [
    "bubbleSortOptimized([1,2,3,4,5])"
   ]
  },
  {
   "cell_type": "code",
   "execution_count": null,
   "metadata": {},
   "outputs": [],
   "source": []
  }
 ],
 "metadata": {
  "kernelspec": {
   "display_name": "Python 3",
   "language": "python",
   "name": "python3"
  },
  "language_info": {
   "codemirror_mode": {
    "name": "ipython",
    "version": 3
   },
   "file_extension": ".py",
   "mimetype": "text/x-python",
   "name": "python",
   "nbconvert_exporter": "python",
   "pygments_lexer": "ipython3",
   "version": "3.12.0"
  }
 },
 "nbformat": 4,
 "nbformat_minor": 2
}
